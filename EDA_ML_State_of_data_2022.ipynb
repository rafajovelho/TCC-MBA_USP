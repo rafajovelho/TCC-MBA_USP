{
 "cells": [
  {
   "cell_type": "markdown",
   "metadata": {},
   "source": [
    "# Carregamento dos dados"
   ]
  },
  {
   "cell_type": "code",
   "execution_count": null,
   "metadata": {},
   "outputs": [],
   "source": [
    "import pandas as pd\n",
    "import numpy as np\n",
    "import os\n",
    "import matplotlib.pyplot as plt\n",
    "import seaborn as sns\n",
    "import missingno as msno\n",
    "from scipy import stats\n",
    "from sklearn.preprocessing import LabelEncoder\n",
    "from sklearn.model_selection import GridSearchCV\n",
    "from sklearn.linear_model import LogisticRegression\n",
    "from sklearn.svm import SVC\n",
    "import xgboost as xgb\n",
    "from sklearn.model_selection import train_test_split\n",
    "from sklearn.ensemble import RandomForestClassifier\n",
    "from sklearn.metrics import accuracy_score, classification_report, precision_score, recall_score, f1_score, roc_auc_score, confusion_matrix\n",
    "\n",
    "from imblearn.over_sampling import SMOTE"
   ]
  },
  {
   "cell_type": "code",
   "execution_count": null,
   "metadata": {},
   "outputs": [],
   "source": [
    "df1 = pd.read_csv('State_of_data_2022.csv')\n",
    "df1.shape"
   ]
  },
  {
   "cell_type": "code",
   "execution_count": null,
   "metadata": {},
   "outputs": [],
   "source": [
    "df1.head()"
   ]
  },
  {
   "cell_type": "markdown",
   "metadata": {},
   "source": [
    "# Pré-Processamento dos Dados"
   ]
  },
  {
   "cell_type": "code",
   "execution_count": null,
   "metadata": {},
   "outputs": [],
   "source": [
    "df = df1.copy()"
   ]
  },
  {
   "cell_type": "code",
   "execution_count": null,
   "metadata": {},
   "outputs": [],
   "source": [
    "# Fazendo um primeiro filtro de colunas do dataframe (fiz uma análise das colunas manualmente no excel pra essa primeira seleção)\n",
    "df = df[[\"('P1_a ', 'Idade')\",\"('P1_a_1 ', 'Faixa idade')\",\"('P1_b ', 'Genero')\",\"('P1_c ', 'Cor/raca/etnia')\",\"('P1_d ', 'PCD')\",\"('P1_g ', 'vive_no_brasil')\",\n",
    "           \"('P1_i_1 ', 'uf onde mora')\",\"('P1_i_2 ', 'Regiao onde mora')\",\"('P1_l ', 'Nivel de Ensino')\",\"('P1_m ', 'Área de Formação')\",\n",
    "           \"('P2_a ', 'Qual sua situação atual de trabalho?')\",\"('P2_b ', 'Setor')\",\"('P2_c ', 'Numero de Funcionarios')\",\"('P2_d ', 'Gestor?')\",\"('P2_f ', 'Cargo Atual')\",\n",
    "           \"('P2_g ', 'Nivel')\",\"('P2_h ', 'Faixa salarial')\",\"('P2_i ', 'Quanto tempo de experiência na área de dados você tem?')\",\n",
    "           \"('P2_j ', 'Quanto tempo de experiência na área de TI/Engenharia de Software você teve antes de começar a trabalhar na área de dados?')\",\n",
    "           \"('P2_k ', 'Você está satisfeito na sua empresa atual?')\",\"('P2_m ', 'Você participou de entrevistas de emprego nos últimos 6 meses?')\",\n",
    "           \"('P2_n ', 'Você pretende mudar de emprego nos próximos 6 meses?')\",\"('P2_p ', 'Atualmente qual a sua forma de trabalho?')\",\n",
    "           \"('P2_s ', 'Sua empresa passu por Layoff em 2022?')\",\"('P3_a ', 'Qual o número aproximado de pessoas que atuam com dados na sua empresa hoje?')\",\n",
    "           \"('P4_a_1 ', 'Atuacao')\",\"('P4_d ', 'Quais das linguagens listadas abaixo você utiliza no trabalho?')\",\"('P4_d_1 ', 'SQL')\",\"('P4_d_2 ', 'R ')\",\n",
    "           \"('P4_d_3 ', 'Python')\",\"('P4_d_4 ', 'C/C++/C#')\",\"('P4_d_5 ', '.NET')\",\"('P4_d_6 ', 'Java')\",\"('P4_d_7 ', 'Julia')\",\"('P4_d_8 ', 'SAS/Stata')\",\n",
    "           \"('P4_d_9 ', 'Visual Basic/VBA')\",\"('P4_d_10 ', 'Scala')\",\"('P4_d_11 ', 'Matlab')\",\"('P4_d_12 ', 'PHP')\",\"('P4_d_13 ', 'Javascript')\",\n",
    "           \"('P4_d_14 ', 'Não utilizo nenhuma linguagem')\",\"('P5_c ', 'Há quanto tempo você busca uma oportunidade na área de dados?')\",\n",
    "]]"
   ]
  },
  {
   "cell_type": "code",
   "execution_count": null,
   "metadata": {},
   "outputs": [],
   "source": [
    "df.info()"
   ]
  },
  {
   "cell_type": "code",
   "execution_count": null,
   "metadata": {},
   "outputs": [],
   "source": [
    "# Renomeando as colunas\n",
    "# Função para extrair o nome da coluna dos títulos\n",
    "def extract_column_name(title):\n",
    "    return title.split(\", \")[1][1:-2]\n",
    "\n",
    "# Renomear as colunas\n",
    "df.columns = [extract_column_name(title) for title in df.columns]"
   ]
  },
  {
   "cell_type": "code",
   "execution_count": null,
   "metadata": {},
   "outputs": [],
   "source": [
    "df.columns"
   ]
  },
  {
   "cell_type": "code",
   "execution_count": null,
   "metadata": {},
   "outputs": [],
   "source": [
    "# Renomeando a coluna 'target' e colocando-a na posição 1\n",
    "df.rename(columns={\"Faixa salarial\":'target'}, inplace = True)\n",
    "target = df.pop(\"target\")\n",
    "df.insert(0,'target', target)\n",
    "df.head()"
   ]
  },
  {
   "cell_type": "code",
   "execution_count": null,
   "metadata": {},
   "outputs": [],
   "source": [
    "df.isna().sum()"
   ]
  },
  {
   "cell_type": "code",
   "execution_count": null,
   "metadata": {},
   "outputs": [],
   "source": [
    "# Visualização dos valores missings \n",
    "msno.bar(df, sort=\"descending\", figsize=(10,6), fontsize=8).grid()"
   ]
  },
  {
   "cell_type": "markdown",
   "metadata": {},
   "source": [
    "Inicialmente vou remover os registros que temos NA na coluna target.  \n",
    "Em seguida vou remover colunas que têm muitos valores NA que vão acabar tirando grande parte da nossa amostra. "
   ]
  },
  {
   "cell_type": "code",
   "execution_count": null,
   "metadata": {},
   "outputs": [],
   "source": [
    "# Removendo valores de target = NA\n",
    "df_filtered = df.dropna(subset=['target'])\n",
    "df_filtered.isna().sum()"
   ]
  },
  {
   "cell_type": "code",
   "execution_count": null,
   "metadata": {},
   "outputs": [],
   "source": [
    "# Visualização dos NA\n",
    "msno.bar(df_filtered, sort=\"descending\", figsize=(10,6), fontsize=8).grid()"
   ]
  },
  {
   "cell_type": "code",
   "execution_count": null,
   "metadata": {},
   "outputs": [],
   "source": [
    "# Visualização onde temos Nível = NA\n",
    "df_filtered[(df_filtered['Nivel'].isna())].iloc[:,5:20].sample(10)"
   ]
  },
  {
   "cell_type": "code",
   "execution_count": null,
   "metadata": {},
   "outputs": [],
   "source": [
    "# é possível verificar que todos os valores onde temos 'Cargo Atual' e 'Nivel' como NA, são cargos de Gestor, ou seja, não precisamos da coluna Gestor. Podemos imputar 'Gestor' na coluna 'Cargo Atual' e 'Nivel' para todos os NA e remover a coluna 'Gestor?'\n",
    "df_filtered[(df_filtered['Cargo Atual'].isna())]['Gestor?'].value_counts()"
   ]
  },
  {
   "cell_type": "code",
   "execution_count": null,
   "metadata": {},
   "outputs": [],
   "source": [
    "# Valores da coluna gestor pra onde temos Nivel NA\n",
    "df_filtered[(df_filtered['Nivel'].isna())]['Gestor?'].value_counts()"
   ]
  },
  {
   "cell_type": "code",
   "execution_count": null,
   "metadata": {},
   "outputs": [],
   "source": [
    "# Valores da coluna gestor pra onde temos Cargo Atual NOT NA\n",
    "df_filtered[(df_filtered['Cargo Atual'].isna() == False)]['Gestor?'].value_counts()"
   ]
  },
  {
   "cell_type": "code",
   "execution_count": null,
   "metadata": {},
   "outputs": [],
   "source": [
    "# Valores da coluna gestor pra onde temos Nivel NOT NA\n",
    "df_filtered[(df_filtered['Nivel'].isna() == False)]['Gestor?'].value_counts()"
   ]
  },
  {
   "cell_type": "code",
   "execution_count": null,
   "metadata": {},
   "outputs": [],
   "source": [
    "# Valores da coluna Cargo ATual\n",
    "df_filtered[(df_filtered['Cargo Atual'].isna() == False)]['Cargo Atual'].value_counts()"
   ]
  },
  {
   "cell_type": "code",
   "execution_count": null,
   "metadata": {},
   "outputs": [],
   "source": [
    "# Removendo coluna 'Gestor?' e preenchendo os NA com \"Gestor\" nas colunas 'Nivel' e 'Cargo Atual'\n",
    "df_filtered2 = df_filtered.copy()\n",
    "df_filtered2 = df_filtered2.drop(columns=['Gestor?'])\n",
    "df_filtered2[['Nivel','Cargo Atual']] = df_filtered[['Nivel','Cargo Atual']].fillna('Gestor')\n",
    "df_filtered2.isna().sum()"
   ]
  },
  {
   "cell_type": "markdown",
   "metadata": {},
   "source": [
    "Vou remover as colunas 'Idade', pois esta apresenta valores NA além de também ja termos a coluna de faixa etária.  \n",
    "Também irei remover as colunas que possuem MUITOS valores NA como 'Há quanto tempo você busca uma oportunidade na área de dados?' e 'Qual o número aproximado de pessoas que atuam com dados na sua empresa hoje?'.  \n",
    "Ainda a decidir se irei remover as colunas das linguagens utilizadas no trabalho"
   ]
  },
  {
   "cell_type": "code",
   "execution_count": null,
   "metadata": {},
   "outputs": [],
   "source": [
    "df_filtered2 = df_filtered2.drop(columns=[\"Qual o número aproximado de pessoas que atuam com dados na sua empresa hoje?\",\"Há quanto tempo você busca uma oportunidade na área de dados?\", \"Idade\"])\n",
    "df_filtered2.isna().sum()"
   ]
  },
  {
   "cell_type": "code",
   "execution_count": null,
   "metadata": {},
   "outputs": [],
   "source": [
    "# Checando a relação das colunas 'vive_no_brasil' com 'uf onde mora' e 'Regiao onde mora'\n",
    "# valores de 'vive_no_brasil' quando temos Regiao onde mora NA\n",
    "df_filtered2[(df_filtered2['Regiao onde mora'].isna())]['vive_no_brasil'].value_counts()"
   ]
  },
  {
   "cell_type": "code",
   "execution_count": null,
   "metadata": {},
   "outputs": [],
   "source": [
    "# valores de 'vive_no_brasil' quando temos Regiao onde mora not NA\n",
    "df_filtered2[(df_filtered2['Regiao onde mora'].isna() == False)]['vive_no_brasil'].value_counts()"
   ]
  },
  {
   "cell_type": "markdown",
   "metadata": {},
   "source": [
    "Novamente, aqui irei remover a coluna vive_no_brasil e preencher os valores de NA da coluna 'Regiao onde mora' com 'Exterior'. Também irei remover a coluna 'uf onde mora' e manter apenas a 'Regiao onde mora'"
   ]
  },
  {
   "cell_type": "code",
   "execution_count": null,
   "metadata": {},
   "outputs": [],
   "source": [
    "df_filtered2 = df_filtered2.drop(columns=['vive_no_brasil', 'uf onde mora'])\n",
    "df_filtered2['Regiao onde mora'] = df_filtered2['Regiao onde mora'].fillna('Exterior')\n",
    "df_filtered2.isna().sum()"
   ]
  },
  {
   "cell_type": "code",
   "execution_count": null,
   "metadata": {},
   "outputs": [],
   "source": [
    "# Visualizando onde temos valores de Genero NA.\n",
    "# Tenhos três opções: preencher com 'Prefiro não informar', preencher aleatóriamente com base nos valores que temos ou remover esses registros. \n",
    "# Vou decidir por dropar os NA da coluna Genero\"Prefiro não informar\" \n",
    "# Vale repensar/testar se vale a pena remover esses juntos com os \"Prefiro não informar\"\n",
    "df_filtered2[(df_filtered2['Genero'].isna())]"
   ]
  },
  {
   "cell_type": "code",
   "execution_count": null,
   "metadata": {},
   "outputs": [],
   "source": [
    "df_filtered2['Genero'].value_counts()"
   ]
  },
  {
   "cell_type": "code",
   "execution_count": null,
   "metadata": {},
   "outputs": [],
   "source": [
    "df_filtered3 = df_filtered2.copy()\n",
    "df_filtered3 = df_filtered3.dropna(subset=['Genero'])\n",
    "df_filtered3.isna().sum()"
   ]
  },
  {
   "cell_type": "code",
   "execution_count": null,
   "metadata": {},
   "outputs": [],
   "source": [
    "# Checando valores da coluna 'Área de Formação'\n",
    "df_filtered3[(df_filtered3['Área de Formação'].isna())]"
   ]
  },
  {
   "cell_type": "code",
   "execution_count": null,
   "metadata": {},
   "outputs": [],
   "source": [
    "# Confirmando que todos os valores de Área de formação NA são pessoal que nao tem graduação formal\n",
    "df_filtered3[(df_filtered3['Área de Formação'].isna())]['Nivel de Ensino'].value_counts()"
   ]
  },
  {
   "cell_type": "code",
   "execution_count": null,
   "metadata": {},
   "outputs": [],
   "source": [
    "# Atribuindo 'Sem Formação Formal' para os valores NA que têm 'Nivel de Ensino' com valor = 'Não tenho graduação formal'.  Irei remover os NA restante logo em seguida\n",
    "\n",
    "#df_filtered3[((df_filtered3['Área de Formação'].isna()) & (df_filtered3['Nivel de Ensino'] == 'Não tenho graduação formal'))]['Área de Formação'] = 'Sem Formação Formal' --> errado\n",
    "\n",
    "df_filtered3.loc[(df_filtered3['Área de Formação'].isna()) & (df_filtered3['Nivel de Ensino'] == 'Não tenho graduação formal'), 'Área de Formação'] = 'Sem Formação Formal'\n",
    "df_filtered3 = df_filtered3.dropna(subset=['Área de Formação'])\n"
   ]
  },
  {
   "cell_type": "code",
   "execution_count": null,
   "metadata": {},
   "outputs": [],
   "source": [
    "df_filtered3.isna().sum()"
   ]
  },
  {
   "cell_type": "markdown",
   "metadata": {},
   "source": [
    "Agora vou remover a pergunta das linguagens utilizadas devido ao grande numero de NA"
   ]
  },
  {
   "cell_type": "code",
   "execution_count": null,
   "metadata": {},
   "outputs": [],
   "source": [
    "df_filtered3 = df_filtered3.iloc[:, :-15]\n",
    "df_filtered3.isna().sum()"
   ]
  },
  {
   "cell_type": "code",
   "execution_count": null,
   "metadata": {},
   "outputs": [],
   "source": [
    "df_filtered3.shape"
   ]
  },
  {
   "cell_type": "code",
   "execution_count": null,
   "metadata": {},
   "outputs": [],
   "source": [
    "# Checando valores da coluna 'Qual sua situação atual de trabalho?'\n",
    "df_filtered3['Área de Formação'].value_counts()"
   ]
  },
  {
   "cell_type": "code",
   "execution_count": null,
   "metadata": {},
   "outputs": [],
   "source": [
    "# Visualizando os valores de todas as variáveis\n",
    "colunas = df_filtered3.columns\n",
    "for i in colunas:\n",
    "    print(i)\n",
    "    print(df_filtered3[f'{i}'].value_counts())"
   ]
  },
  {
   "cell_type": "markdown",
   "metadata": {},
   "source": [
    "# Análise Exploratória"
   ]
  },
  {
   "cell_type": "code",
   "execution_count": null,
   "metadata": {},
   "outputs": [],
   "source": [
    "df_filtered3.target.hist(grid = True, xrot = 90)"
   ]
  },
  {
   "cell_type": "markdown",
   "metadata": {},
   "source": [
    "# Pré-Processamento dos Dados - pt2"
   ]
  },
  {
   "cell_type": "markdown",
   "metadata": {},
   "source": [
    "Como todas as variáveis que estão sendo usadas são categóricas, teremos que aplicar as técnicas de Label Encoding e One Hot Encoding"
   ]
  },
  {
   "cell_type": "code",
   "execution_count": null,
   "metadata": {},
   "outputs": [],
   "source": [
    "df_filtered3['Atuacao'].value_counts()"
   ]
  },
  {
   "cell_type": "code",
   "execution_count": null,
   "metadata": {},
   "outputs": [],
   "source": [
    "# Separando colunas\n",
    "cols_encod = ['target', 'Faixa idade','Nivel de Ensino','Nivel','Numero de Funcionarios','Quanto tempo de experiência na área de dados você tem?',\n",
    "              'Quanto tempo de experiência na área de TI/Engenharia de Software você teve antes de começar a trabalhar na área de dados?']\n",
    "cols_one_hot = ['Genero','Cor/raca/etnia', 'PCD','Regiao onde mora','Área de Formação','Qual sua situação atual de trabalho?', 'Setor',\n",
    "                'Cargo Atual','Você participou de entrevistas de emprego nos últimos 6 meses?','Você pretende mudar de emprego nos próximos 6 meses?',\n",
    "                'Atualmente qual a sua forma de trabalho?','Sua empresa passu por Layoff em 2022?','Atuacao']\n",
    "col_binarias = ['Você está satisfeito na sua empresa atual?']"
   ]
  },
  {
   "cell_type": "code",
   "execution_count": null,
   "metadata": {},
   "outputs": [],
   "source": [
    "# Encoding\n",
    "\n",
    "faixa_salario_map = {\n",
    "    'Menos de R$ 1.000/mês':0,\n",
    "    'de R$ 1.001/mês a R$ 2.000/mês':1,\n",
    "    'de R$ 2.001/mês a R$ 3.000/mês':2,\n",
    "    'de R$ 3.001/mês a R$ 4.000/mês':3,\n",
    "    'de R$ 4.001/mês a R$ 6.000/mês':4,\n",
    "    'de R$ 6.001/mês a R$ 8.000/mês':5,\n",
    "    'de R$ 8.001/mês a R$ 12.000/mês':6,\n",
    "    'de R$ 12.001/mês a R$ 16.000/mês':7,\n",
    "    'de R$ 16.001/mês a R$ 20.000/mês':8,\n",
    "    'de R$ 20.001/mês a R$ 25.000/mês':9,\n",
    "    'de R$ 25.001/mês a R$ 30.000/mês':10,\n",
    "    'de R$ 30.001/mês a R$ 40.000/mês':11,\n",
    "    'Acima de R$ 40.001/mês':12\n",
    "                     }\n",
    "\n",
    "faixa_etaria_map ={\n",
    "    '17-21':0,\n",
    "    '22-24':1,\n",
    "    '25-29':2,\n",
    "    '30-34':3,\n",
    "    '35-39':4,    \n",
    "    '40-44':5,\n",
    "    '45-49':6,    \n",
    "    '50-54':7,\n",
    "    '55+':8 \n",
    "}\n",
    "\n",
    "nivel_ensino_map = {\n",
    "    'Não tenho graduação formal':0,\n",
    "    'Estudante de Graduação':1,\n",
    "    'Graduação/Bacharelado':2,\n",
    "    'Pós-graduação':3,    \n",
    "    'Mestrado':4,\n",
    "    'Doutorado ou Phd':5,    \n",
    "}\n",
    "\n",
    "nivel_map = {\n",
    "    \"Júnior\":0,\n",
    "    \"Pleno\":1,\n",
    "    \"Sênior\":2,\n",
    "    \"Gestor\":3    \n",
    "}\n",
    "\n",
    "num_funcionario_map = {\n",
    "    'de 1 a 5':0,\n",
    "    'de 6 a 10':1,\n",
    "    'de 11 a 50':2,\n",
    "    'de 51 a 100':3,\n",
    "    'de 101 a 500':4,\n",
    "    'de 501 a 1.000':5,\n",
    "    'de 1.001 a 3.000':6,\n",
    "    'Acima de 3.000':7\n",
    "}\n",
    "\n",
    "tempo_exp_map = {\n",
    "    'Não tenho experiência na área de dados':0,\n",
    "    'Menos de 1 ano':1,\n",
    "    'de 1 a 2 anos':2,\n",
    "    'de 3 a 4 anos':3,\n",
    "    'de 4 a 6 anos':4,\n",
    "    'de 7 a 10 anos':5,\n",
    "    'Mais de 10 anos':6\n",
    "}\n",
    "\n",
    "tempo_exp_ti_map = {\n",
    "    'Não tive experiência na área de TI/Engenharia de Software antes de começar a trabalhar na área de dados':0,\n",
    "    'Menos de 1 ano':1,\n",
    "    'de 1 a 2 anos':2,\n",
    "    'de 3 a 4 anos':3,\n",
    "    'de 5 a 6 anos':4,\n",
    "    'de 7 a 10 anos':5,\n",
    "    'Mais de 10 anos':6\n",
    "}\n",
    "\n",
    "# Lista com dicionários para aplicar no meu df\n",
    "dictss = [faixa_salario_map,faixa_etaria_map,nivel_ensino_map,nivel_map,num_funcionario_map,tempo_exp_map,tempo_exp_ti_map]"
   ]
  },
  {
   "cell_type": "markdown",
   "metadata": {},
   "source": [
    "> df_encoded vai conter os pre processamento de label encoding e one_hot encoding"
   ]
  },
  {
   "cell_type": "code",
   "execution_count": null,
   "metadata": {},
   "outputs": [],
   "source": [
    "df_encoded = df_filtered3.copy()"
   ]
  },
  {
   "cell_type": "code",
   "execution_count": null,
   "metadata": {},
   "outputs": [],
   "source": [
    "# Aplicando o Label Enconding\n",
    "for i in range(0,len(cols_encod)):\n",
    "    df_encoded[cols_encod[i]] = df_encoded[cols_encod[i]].map(dictss[i])"
   ]
  },
  {
   "cell_type": "code",
   "execution_count": null,
   "metadata": {},
   "outputs": [],
   "source": [
    "# Aplicando o One hot Encoding\n",
    "def one_hot_encoding(df, cols):\n",
    "    \"\"\"\n",
    "    Realiza one-hot encoding.\n",
    "    \n",
    "    Parâmetros:\n",
    "        df (DataFrame): DataFrame contendo as variáveis categóricas.\n",
    "        cols (list): Lista das colunas a serem codificadas em one-hot encoding.\n",
    "        \n",
    "    Retorna:\n",
    "        DataFrame: O DataFrame com as colunas especificadas codificadas em one-hot encoding.\n",
    "    \"\"\"\n",
    "    return pd.get_dummies(df, columns=cols)\n",
    "\n"
   ]
  },
  {
   "cell_type": "code",
   "execution_count": null,
   "metadata": {},
   "outputs": [],
   "source": [
    "df_encoded = one_hot_encoding(df = df_encoded, cols = cols_one_hot)\n",
    "df_encoded.head()"
   ]
  },
  {
   "cell_type": "code",
   "execution_count": null,
   "metadata": {},
   "outputs": [],
   "source": [
    "# Aplicando 0 e 1 pra vairáveis booleana 'Você está satisfeito na sua empresa atual?'\n",
    "df_encoded['Você está satisfeito na sua empresa atual?'] = df_encoded['Você está satisfeito na sua empresa atual?'].map({True: 1, False: 0})\n",
    "df_encoded.head()"
   ]
  },
  {
   "cell_type": "code",
   "execution_count": null,
   "metadata": {},
   "outputs": [],
   "source": []
  },
  {
   "cell_type": "markdown",
   "metadata": {},
   "source": [
    "# Machine Learning"
   ]
  },
  {
   "cell_type": "code",
   "execution_count": null,
   "metadata": {},
   "outputs": [],
   "source": [
    "# Copia do df pre processado\n",
    "df_ml = df_encoded.copy()\n",
    "\n",
    "X = df_ml.drop('target',axis=1)\n",
    "y = df_ml['target']"
   ]
  },
  {
   "cell_type": "markdown",
   "metadata": {},
   "source": [
    "- Random Forest (RF)\n",
    "- Modelo de Regressão Logistico Multinomial\n",
    "- Gradient Boosting Machines (GBM)\n",
    "- Redes Neurais Artificiais (NN)\n",
    "- Support Vector Machines (SVM)"
   ]
  },
  {
   "cell_type": "code",
   "execution_count": null,
   "metadata": {},
   "outputs": [],
   "source": [
    "# Fuunção para separar a coluna target das preditoras e separar em amostra de treino e teste\n",
    "def split_data(df, target_column, test_size=0.25, random_state=19):\n",
    "    X = df.drop(target_column, axis=1)\n",
    "    y = df[target_column]\n",
    "    \n",
    "    X_train, X_test, y_train, y_test = train_test_split(X, y, test_size = test_size, random_state = random_state)\n",
    "    return X_train, X_test, y_train, y_test   \n"
   ]
  },
  {
   "cell_type": "code",
   "execution_count": null,
   "metadata": {},
   "outputs": [],
   "source": [
    "# Atribuindo os dados de treino e teste\n",
    "X_train, X_test, y_train, y_test = split_data(df= df_ml, target_column='target', test_size=0.25, random_state=19)"
   ]
  },
  {
   "cell_type": "markdown",
   "metadata": {},
   "source": [
    "### Funções"
   ]
  },
  {
   "cell_type": "code",
   "execution_count": null,
   "metadata": {},
   "outputs": [],
   "source": [
    "# Função para rodar modelo de Random Forest tunando os hiper parametros com o GridSearch\n",
    "\n",
    "def ML_RandomForest(X_train, y_train, X_test, y_test, random_state=19, scoring_method='f1_weighted', n_jobs=-1):\n",
    "    \n",
    "    \"\"\"Função para rodar nossos dados de treino e teste em um modelo de Random Forest\"\"\"\n",
    "    \n",
    "    # Buscando os melhores hiperparametros com o GridSearch\n",
    "    param_grid = {\n",
    "        'n_estimators': [100, 200, 300],  # Número de árvores na floresta\n",
    "        'max_depth': [None, 10, 20],        # Profundidade máxima de cada árvore\n",
    "        'min_samples_split': [2, 5, 10],    # O número mínimo de amostras necessárias para dividir um nó interno\n",
    "        'min_samples_leaf': [1, 2, 4]      # O número mínimo de amostras necessárias para estar em um nó folha\n",
    "    }\n",
    "\n",
    "    # Inicialize o modelo Random Forest\n",
    "    random_forest = RandomForestClassifier(random_state=random_state)\n",
    "\n",
    "    # Inicialize o objeto GridSearchCV\n",
    "    grid_search = GridSearchCV(estimator=random_forest, param_grid=param_grid, cv=5, scoring = scoring_method, n_jobs=n_jobs)\n",
    "\n",
    "    # Realize o ajuste aos dados de treinamento\n",
    "    grid_search.fit(X_train, y_train)\n",
    "\n",
    "    # Imprima os melhores parâmetros encontrados\n",
    "    print(\"Melhores parâmetros:\", grid_search.best_params_)\n",
    "\n",
    "    # Faça previsões com o modelo otimizado\n",
    "    y_pred = grid_search.predict(X_test) \n",
    "\n",
    "    # Avalie o desempenho do modelo otimizado\n",
    "    accuracy_rf_optimized = accuracy_score(y_test, y_pred)\n",
    "    f1_rf_optimized = f1_score(y_test, y_pred, average='weighted')\n",
    "    precision_rf_optimized = precision_score(y_test, y_pred, average='weighted')\n",
    "    recall_rf_optimized = recall_score(y_test, y_pred, average='weighted')\n",
    "    conf_matrix_rf_optimized = confusion_matrix(y_test, y_pred)\n",
    "    print(\"Accuracy:\", accuracy_rf_optimized)\n",
    "    print(\"F1-Score:\", f1_rf_optimized)\n",
    "    print(\"Precisão:\", precision_rf_optimized)\n",
    "    print(\"Revocação:\", recall_rf_optimized)\n",
    "    print(\"Matriz de Confusão:\")\n",
    "    print(conf_matrix_rf_optimized)\n",
    "\n",
    "    # Exiba o relatório de classificação\n",
    "    print(classification_report(y_test, y_pred))\n",
    "    return y_pred       "
   ]
  },
  {
   "cell_type": "code",
   "execution_count": null,
   "metadata": {},
   "outputs": [],
   "source": [
    "# Função para rodar modelo Logistico Mltinomial tunando os hiper parametros com o GridSearch\n",
    "\n",
    "def ML_LogMult(X_train, y_train, X_test, y_test, random_state=19, scoring_method='f1_weighted', n_jobs=-1):\n",
    "    param_grid = {\n",
    "        'C': [0.001, 0.01, 0.1, 1, 10],  # Parâmetro de regularização\n",
    "        'solver': ['newton-cg', 'lbfgs', 'sag', 'saga'],  # Algoritmo de otimização\n",
    "        'max_iter': [100, 200, 300]  # Número máximo de iterações\n",
    "    }\n",
    "\n",
    "    # Inicialize o modelo de regressão logística multinomial\n",
    "    logistic_model = LogisticRegression(multi_class='multinomial', random_state=random_state)\n",
    "\n",
    "    # Inicialize o objeto GridSearchCV\n",
    "    grid_search = GridSearchCV(estimator=logistic_model, param_grid=param_grid, cv=5, scoring=scoring_method, n_jobs=n_jobs)\n",
    "\n",
    "    # Realize o ajuste aos dados de treinamento\n",
    "    grid_search.fit(X_train, y_train)\n",
    "\n",
    "    # Imprima os melhores parâmetros encontrados\n",
    "    print(\"Melhores parâmetros:\", grid_search.best_params_)\n",
    "\n",
    "    # Faça previsões com o modelo otimizado usando o conjunto de teste\n",
    "    y_pred = grid_search.predict(X_test)\n",
    "\n",
    "    # Avalie o desempenho do modelo otimizado\n",
    "    accuracy_lm_optimized = accuracy_score(y_test, y_pred)\n",
    "    f1_lm_optimized = f1_score(y_test, y_pred, average='weighted')\n",
    "    precision_lm_optimized = precision_score(y_test, y_pred, average='weighted')\n",
    "    recall_lm_optimized = recall_score(y_test, y_pred, average='weighted')\n",
    "    conf_matrix_lm_optimized = confusion_matrix(y_test, y_pred)\n",
    "    print(\"Accuracy:\", accuracy_lm_optimized)\n",
    "    print(\"F1-Score:\", f1_lm_optimized)\n",
    "    print(\"Precisão:\", precision_lm_optimized)\n",
    "    print(\"Revocação:\", recall_lm_optimized)\n",
    "    print(\"Matriz de Confusão:\")\n",
    "    print(conf_matrix_lm_optimized)\n",
    "\n",
    "    # Exiba o relatório de classificação\n",
    "    print(classification_report(y_test, y_pred))\n",
    "    return y_pred       "
   ]
  },
  {
   "cell_type": "code",
   "execution_count": null,
   "metadata": {},
   "outputs": [],
   "source": [
    "# Função para rodar modelo Logistico XGBoost tunando os hiper parametros com o GridSearch\n",
    "\n",
    "def ML_Xgboost(X_train, y_train, X_test, y_test, scoring_method='f1_weighted',n_jobs=-1 ):\n",
    "    \n",
    "    \"\"\"return y_pred\"\"\"\n",
    "    num_class = len(y_train.value_counts())\n",
    "    model = xgb.XGBClassifier(objective='multi:softmax', num_class=num_class)\n",
    "\n",
    "    # Defina os hiperparâmetros que deseja ajustar\n",
    "    param_grid = {\n",
    "        'n_estimators': [100, 200, 300],  \n",
    "        'max_depth': [3, 4, 5],        \n",
    "        'learning_rate': [0.01, 0.1, 0.2]  \n",
    "    }\n",
    "\n",
    "    # Inicialize o objeto GridSearchCV\n",
    "    grid_search = GridSearchCV(estimator=model, param_grid=param_grid, cv=5, scoring=scoring_method, n_jobs = n_jobs)\n",
    "\n",
    "    # Realize o ajuste aos dados de treinamento\n",
    "    grid_search.fit(X_train, y_train)\n",
    "\n",
    "    # Imprima os melhores parâmetros encontrados\n",
    "    print(\"Melhores parâmetros:\", grid_search.best_params_)\n",
    "\n",
    "    # Faça previsões com o modelo otimizado usando o conjunto de teste\n",
    "    y_pred = grid_search.predict(X_test)\n",
    "\n",
    "    # Exiba o relatório de classificação\n",
    "    print(classification_report(y_test, y_pred))\n",
    "    accuracy_xgb_optimized = accuracy_score(y_test, y_pred)\n",
    "    f1_xgb_optimized = f1_score(y_test, y_pred,average='weighted')\n",
    "    precision_xgb_optimized = precision_score(y_test, y_pred, average='weighted')\n",
    "    recall_xgb_optimized = recall_score(y_test, y_pred, average='weighted')\n",
    "    conf_matrix_xgb_optimized = confusion_matrix(y_test, y_pred)\n",
    "    print(f'Acuracia XGBoost: {accuracy_xgb_optimized}')\n",
    "    print(f'F1-score LXGBoost: {f1_xgb_optimized}')\n",
    "    print(\"Precisão:\", precision_xgb_optimized)\n",
    "    print(\"Revocação:\", recall_xgb_optimized)\n",
    "    print(\"Matriz de Confusão:\")\n",
    "    print(conf_matrix_xgb_optimized)\n",
    "    \n",
    "    return y_pred"
   ]
  },
  {
   "cell_type": "code",
   "execution_count": null,
   "metadata": {},
   "outputs": [],
   "source": [
    "# Função para rodar modelo Logistico SVM tunando os hiper parametros com o GridSearch\n",
    "\n",
    "def ML_Svm(X_train, y_train, X_test, y_test, scoring_method='f1_weighted',n_jobs=-1):\n",
    "    svm_model = SVC()\n",
    "\n",
    "    # Defina os hiperparâmetros que deseja ajustar\n",
    "    param_grid = {\n",
    "        'C': [0.1, 1, 10],  \n",
    "        'kernel': ['linear', 'rbf', 'poly'],        \n",
    "        'gamma': ['scale', 'auto']\n",
    "    }\n",
    "\n",
    "    # Inicialize o objeto GridSearchCV\n",
    "    grid_search = GridSearchCV(estimator=svm_model, param_grid=param_grid, cv=5, scoring=scoring_method, n_jobs=n_jobs)\n",
    "\n",
    "    # Realize o ajuste aos dados de treinamento\n",
    "    grid_search.fit(X_train, y_train)\n",
    "\n",
    "    # Imprima os melhores parâmetros encontrados\n",
    "    print(\"Melhores parâmetros:\", grid_search.best_params_)\n",
    "\n",
    "    # Faça previsões com o modelo otimizado usando o conjunto de teste\n",
    "    y_pred = grid_search.predict(X_test)\n",
    "\n",
    "    # Exiba o relatório de classificação\n",
    "    print(classification_report(y_test, y_pred))\n",
    "    accuracy_svm_optimized = accuracy_score(y_test, y_pred)\n",
    "    f1_svm_optimized = f1_score(y_test, y_pred,average='weighted')\n",
    "    precision_svm_optimized = precision_score(y_test, y_pred, average='weighted')\n",
    "    recall_svm_optimized = recall_score(y_test, y_pred, average='weighted')\n",
    "    conf_matrix_svm_optimized = confusion_matrix(y_test, y_pred)\n",
    "    print(f'Acuracia XGBoost: {accuracy_svm_optimized}')\n",
    "    print(f'F1-score LXGBoost: {f1_svm_optimized}')\n",
    "    print(\"Precisão:\", precision_svm_optimized)\n",
    "    print(\"Revocação:\", recall_svm_optimized)\n",
    "    print(\"Matriz de Confusão:\")\n",
    "    print(conf_matrix_svm_optimized)\n",
    "    \n",
    "    return y_pred\n",
    "    "
   ]
  },
  {
   "cell_type": "markdown",
   "metadata": {},
   "source": [
    "### SMOTE"
   ]
  },
  {
   "cell_type": "markdown",
   "metadata": {},
   "source": [
    "Como temos uma variável Y desbalanceada, pode ser que a aplicação do SMOTE(que balanceia os valores da variável) ajude."
   ]
  },
  {
   "cell_type": "code",
   "execution_count": 135,
   "metadata": {},
   "outputs": [
    {
     "name": "stdout",
     "output_type": "stream",
     "text": [
      "0      34\n",
      "1     213\n",
      "2     280\n",
      "3     300\n",
      "4     582\n",
      "5     527\n",
      "6     751\n",
      "7     437\n",
      "8     228\n",
      "9     134\n",
      "10     77\n",
      "11     70\n",
      "12     45\n",
      "Name: target, dtype: int64\n"
     ]
    },
    {
     "data": {
      "image/png": "[encoded data removed]",
      "text/plain": [
       "<Figure size 640x480 with 1 Axes>"
      ]
     },
     "metadata": {},
     "output_type": "display_data"
    }
   ],
   "source": [
    "df_ml['target'].hist(bins = len(df_ml['target'].value_counts()))\n",
    "print(df_ml['target'].value_counts().sort_index())"
   ]
  },
  {
   "cell_type": "code",
   "execution_count": 136,
   "metadata": {},
   "outputs": [
    {
     "name": "stdout",
     "output_type": "stream",
     "text": [
      "Distribuição das classes após SMOTE:\n",
      "0     567\n",
      "1     567\n",
      "2     567\n",
      "3     567\n",
      "4     567\n",
      "5     567\n",
      "6     567\n",
      "7     567\n",
      "8     567\n",
      "9     567\n",
      "10    567\n",
      "11    567\n",
      "12    567\n",
      "Name: target, dtype: int64\n"
     ]
    },
    {
     "data": {
      "text/plain": [
       "<AxesSubplot:>"
      ]
     },
     "execution_count": 136,
     "metadata": {},
     "output_type": "execute_result"
    },
    {
     "data": {
      "image/png": "[encoded data removed]",
      "text/plain": [
       "<Figure size 640x480 with 1 Axes>"
      ]
     },
     "metadata": {},
     "output_type": "display_data"
    }
   ],
   "source": [
    "# Inicialize o SMOTE\n",
    "smote = SMOTE(random_state=19)\n",
    "\n",
    "# Aplique o SMOTE ao conjunto de treinamento (X_train e y_train)\n",
    "X_train_resampled, y_train_resampled = smote.fit_resample(X_train, y_train)\n",
    "\n",
    "# Verifique a distribuição das classes após a aplicação do SMOTE\n",
    "print(\"Distribuição das classes após SMOTE:\")\n",
    "print(pd.Series(y_train_resampled).value_counts().sort_index())\n",
    "y_train_resampled.hist(bins = 13)"
   ]
  },
  {
   "cell_type": "markdown",
   "metadata": {},
   "source": [
    "## Random Forest"
   ]
  },
  {
   "cell_type": "code",
   "execution_count": null,
   "metadata": {},
   "outputs": [],
   "source": [
    "# # Inicializando o modelo\n",
    "# random_forest = RandomForestClassifier(n_estimators=100, random_state=19)\n",
    "\n",
    "# # Treinando o modelo\n",
    "# random_forest.fit(X_train, y_train)\n",
    "\n",
    "# # Fazendo previsões no conjunto de teste\n",
    "# y_pred = random_forest.predict(X_test)\n",
    "\n",
    "# # Avalie a precisão do modelo\n",
    "# accuracy_rf = accuracy_score(y_test, y_pred)\n",
    "# f1_rf = f1_score(y_test, y_pred, average='weighted')\n",
    "# print(\"Accuracy:\", accuracy_rf)\n",
    "# print('f1-score:', f1_rf)\n",
    "\n",
    "# # Exiba o relatório de classificação\n",
    "# print(classification_report(y_test, y_pred))\n"
   ]
  },
  {
   "cell_type": "code",
   "execution_count": null,
   "metadata": {},
   "outputs": [],
   "source": [
    "# # Buscando os melhores hiperparametros com o GridSearch\n",
    "# param_grid = {\n",
    "#     'n_estimators': [100, 200, 300],  # Número de árvores na floresta\n",
    "#     'max_depth': [None, 10, 20],        # Profundidade máxima de cada árvore\n",
    "#     'min_samples_split': [2, 5, 10],    # O número mínimo de amostras necessárias para dividir um nó interno\n",
    "#     'min_samples_leaf': [1, 2, 4]      # O número mínimo de amostras necessárias para estar em um nó folha\n",
    "# }\n",
    "\n",
    "# # Inicialize o modelo Random Forest\n",
    "# random_forest = RandomForestClassifier(random_state=19)\n",
    "\n",
    "# # Inicialize o objeto GridSearchCV\n",
    "# grid_search = GridSearchCV(estimator=random_forest, param_grid=param_grid, cv=5, scoring='f1', n_jobs=-1)\n",
    "\n",
    "# # Realize o ajuste aos dados de treinamento\n",
    "# grid_search.fit(X_train, y_train)\n",
    "\n",
    "# # Imprima os melhores parâmetros encontrados\n",
    "# print(\"Melhores parâmetros:\", grid_search.best_params_)\n",
    "\n",
    "# # Faça previsões com o modelo otimizado\n",
    "# y_pred = grid_search.predict(X_test)\n",
    "\n",
    "# # Avalie o desempenho do modelo otimizado\n",
    "# accuracy_rf_optimized = accuracy_score(y_test, y_pred)\n",
    "# f1_rf_optimized = f1_score(y_test, y_pred, average='weighted')\n",
    "# precision_rf_optimized = precision_score(y_test, y_pred, average='weighted')\n",
    "# recall_rf_optimized = recall_score(y_test, y_pred, average='weighted')\n",
    "# conf_matrix_rf_optimized = confusion_matrix(y_test, y_pred)\n",
    "# print(\"Accuracy:\", accuracy_rf_optimized)\n",
    "# print(\"F1-Score:\", f1_rf_optimized)\n",
    "# print(\"Precisão:\", precision_rf_optimized)\n",
    "# print(\"Revocação:\", recall_rf_optimized)\n",
    "# print(\"Matriz de Confusão:\")\n",
    "# print(conf_matrix_rf_optimized)\n",
    "\n",
    "# # Exiba o relatório de classificação\n",
    "# print(classification_report(y_test, y_pred))\n"
   ]
  },
  {
   "cell_type": "markdown",
   "metadata": {},
   "source": [
    "> Como temos uma variável target um pouco desbalanceada, tentarei aplicar o SMOTE para verificar se melhor o modelo"
   ]
  },
  {
   "cell_type": "code",
   "execution_count": null,
   "metadata": {},
   "outputs": [],
   "source": [
    "# df_ml['target'].hist(bins=13)\n",
    "# print(df_ml['target'].value_counts().sort_index())"
   ]
  },
  {
   "cell_type": "code",
   "execution_count": null,
   "metadata": {},
   "outputs": [],
   "source": [
    "# # Inicialize o SMOTE\n",
    "# smote = SMOTE(random_state=19)\n",
    "\n",
    "# # Aplique o SMOTE ao conjunto de treinamento (X_train e y_train)\n",
    "# X_train_resampled, y_train_resampled = smote.fit_resample(X_train, y_train)\n",
    "\n",
    "# # Verifique a distribuição das classes após a aplicação do SMOTE\n",
    "# print(\"Distribuição das classes após SMOTE:\")\n",
    "# print(pd.Series(y_train_resampled).value_counts().sort_index())\n",
    "# y_train_resampled.hist(bins = 13)"
   ]
  },
  {
   "cell_type": "code",
   "execution_count": null,
   "metadata": {},
   "outputs": [],
   "source": [
    "# Buscando os melhores hiperparametros com o GridSearch para os dados de treino com SMOTE aplicado\n",
    "param_grid = {\n",
    "    'n_estimators': [100, 200, 300],  # Número de árvores na floresta\n",
    "    'max_depth': [None, 10, 20],        # Profundidade máxima de cada árvore\n",
    "    'min_samples_split': [2, 5, 10],    # O número mínimo de amostras necessárias para dividir um nó interno\n",
    "    'min_samples_leaf': [1, 2, 4]       # O número mínimo de amostras necessárias para estar em um nó folha\n",
    "}\n",
    "\n",
    "# Inicialize o objeto GridSearchCV\n",
    "grid_search = GridSearchCV(estimator=random_forest, param_grid=param_grid, cv=5, scoring='f1', n_jobs=1)\n",
    "\n",
    "# Realize o ajuste aos dados de treinamento resampleados\n",
    "grid_search.fit(X_train_resampled, y_train_resampled)\n",
    "\n",
    "# Imprima os melhores parâmetros encontrados\n",
    "print(\"Melhores parâmetros:\", grid_search.best_params_)\n",
    "\n",
    "# Faça previsões com o modelo otimizado usando o conjunto de teste\n",
    "y_pred = grid_search.predict(X_test)\n",
    "\n",
    "# Avalie o desempenho do modelo otimizado\n",
    "accuracy_rf_smote = accuracy_score(y_test, y_pred)\n",
    "f1_rf_smote = f1_score(y_test, y_pred, average='weighted')\n",
    "#auc_roc = roc_auc_score(y_test, y_pred)\n",
    "precision_rf_smote = precision_score(y_test, y_pred, average='weighted')\n",
    "recall_rf_smote = recall_score(y_test, y_pred, average='weighted')\n",
    "conf_matrix_rf_smote = confusion_matrix(y_test, y_pred)\n",
    "print(\"Accuracy:\", accuracy_rf_smote)\n",
    "print(\"F1-Score:\", f1_rf_smote)\n",
    "#print(\"AUC-ROC:\", auc_roc)\n",
    "print(\"Precisão:\", precision_rf_smote)\n",
    "print(\"Revocação:\", recall_rf_smote)\n",
    "print(\"Matriz de Confusão:\")\n",
    "print(conf_matrix_rf_smote)\n",
    "\n",
    "\n",
    "# Exiba o relatório de classificação\n",
    "print(classification_report(y_test, y_pred))\n"
   ]
  },
  {
   "cell_type": "markdown",
   "metadata": {},
   "source": [
    "> Tivemos uma redução na acurácia do modelo. Portanto nesse caso o modelo ficar melhor sem o uso da técnica de SMOTE"
   ]
  },
  {
   "cell_type": "markdown",
   "metadata": {},
   "source": [
    "## Modelo de Regressão Logistico Multinomial"
   ]
  },
  {
   "cell_type": "code",
   "execution_count": null,
   "metadata": {},
   "outputs": [],
   "source": [
    "# Inicialize e ajuste o modelo de regressão logística multinomial\n",
    "logistic_model = LogisticRegression(multi_class='multinomial', solver='lbfgs', max_iter=1000)\n",
    "logistic_model.fit(X_train, y_train)\n",
    "\n",
    "# Faça previsões com o modelo\n",
    "y_pred = logistic_model.predict(X_test)\n",
    "\n",
    "# Avaliando o desempenho\n",
    "accuracy_rlm = accuracy_score(y_test, y_pred)\n",
    "f1_rlm = f1_score(y_test, y_pred, average='weighted')\n",
    "print(\"Accuracy:\", accuracy_rlm)\n",
    "print(\"F1-Score:\", f1_rlm)\n",
    "\n",
    "# Exiba o relatório de classificação\n",
    "print(classification_report(y_test, y_pred))"
   ]
  },
  {
   "cell_type": "code",
   "execution_count": null,
   "metadata": {},
   "outputs": [],
   "source": [
    "# Tunning dos hiperparâmetros com GridSearch\n",
    "param_grid = {\n",
    "    'C': [0.001, 0.01, 0.1, 1, 10],  # Parâmetro de regularização\n",
    "    'solver': ['newton-cg', 'lbfgs', 'sag', 'saga'],  # Algoritmo de otimização\n",
    "    'max_iter': [100, 200, 300]  # Número máximo de iterações\n",
    "}\n",
    "\n",
    "# Inicialize o modelo de regressão logística multinomial\n",
    "logistic_model = LogisticRegression(multi_class='multinomial')\n",
    "\n",
    "# Inicialize o objeto GridSearchCV\n",
    "grid_search = GridSearchCV(estimator=logistic_model, param_grid=param_grid, cv=5, scoring='f1_weighted', n_jobs=-1)\n",
    "\n",
    "# Realize o ajuste aos dados de treinamento\n",
    "grid_search.fit(X_train, y_train)\n",
    "\n",
    "# Imprima os melhores parâmetros encontrados\n",
    "print(\"Melhores parâmetros:\", grid_search.best_params_)\n",
    "\n",
    "# Faça previsões com o modelo otimizado usando o conjunto de teste\n",
    "y_pred = grid_search.predict(X_test)\n",
    "\n",
    "# Avaliando o desempenho\n",
    "accuracy_rlm_optimized = accuracy_score(y_test, y_pred)\n",
    "f1_rlm_optimized = f1_score(y_test, y_pred, average='weighted')\n",
    "print(\"Accuracy:\", accuracy_rlm_optimized)\n",
    "print(\"F1-Score:\", f1_rlm_optimized)\n",
    "\n",
    "# Exiba o relatório de classificação\n",
    "print(classification_report(y_test, y_pred))"
   ]
  },
  {
   "cell_type": "code",
   "execution_count": null,
   "metadata": {},
   "outputs": [],
   "source": [
    "# Tunning dos hiperparâmetros com GridSearch para os dados com SMOTE\n",
    "param_grid = {\n",
    "    'C': [0.001, 0.01, 0.1, 1, 10],  # Parâmetro de regularização\n",
    "    'solver': ['newton-cg', 'lbfgs', 'sag', 'saga'],  # Algoritmo de otimização\n",
    "    'max_iter': [100, 200, 300]  # Número máximo de iterações\n",
    "}\n",
    "\n",
    "# Inicialize o modelo de regressão logística multinomial\n",
    "logistic_model = LogisticRegression(multi_class='multinomial')\n",
    "\n",
    "# Inicialize o objeto GridSearchCV\n",
    "grid_search = GridSearchCV(estimator=logistic_model, param_grid=param_grid, cv=5, scoring='f1_weighted', n_jobs=-1)\n",
    "\n",
    "# Realize o ajuste aos dados de treinamento\n",
    "grid_search.fit(X_train_resampled, y_train_resampled)\n",
    "\n",
    "# Imprima os melhores parâmetros encontrados\n",
    "print(\"Melhores parâmetros:\", grid_search.best_params_)\n",
    "\n",
    "# Faça previsões com o modelo otimizado usando o conjunto de teste\n",
    "y_pred = grid_search.predict(X_test)\n",
    "\n",
    "# Avalie o desempenho do modelo otimizado\n",
    "f1_score_optimized = f1_score(y_test, y_pred, average='weighted')\n",
    "print(\"F1-Score do modelo otimizado:\", f1_score_optimized)\n",
    "\n",
    "\n",
    "accuracy_rlm_optimized_smote = accuracy_score(y_test, y_pred)\n",
    "f1_rlm_optimized_smote = f1_score(y_test, y_pred, average='weighted')\n",
    "print(\"Accuracy:\", accuracy_rlm_optimized_smote)\n",
    "print(\"F1-Score:\", f1_rlm_optimized_smote)"
   ]
  },
  {
   "cell_type": "markdown",
   "metadata": {},
   "source": [
    "## Gradient Boosting Machines"
   ]
  },
  {
   "cell_type": "code",
   "execution_count": null,
   "metadata": {},
   "outputs": [],
   "source": [
    "# Inicialize o modelo GBM XGBoost\n",
    "xgboost_model = xgb.XGBClassifier(objective='multi:softmax', num_class=13)\n",
    "\n",
    "# Treine o modelo GBM XGBoost\n",
    "xgboost_model.fit(X_train, y_train)\n",
    "\n",
    "# Faça previsões com o modelo\n",
    "y_pred = xgboost_model.predict(X_test)\n",
    "\n",
    "# Exiba o relatório de classificação\n",
    "print(classification_report(y_test, y_pred))\n",
    "accuracy_xgb = accuracy_score(y_test, y_pred)\n",
    "f1_xgb = f1_score(y_test, y_pred,average='weighted')\n",
    "print(f'Acuracia XGBoost: {accuracy_xgb}')\n",
    "print(f'F1-score LXGBoost: {f1_xgb}')"
   ]
  },
  {
   "cell_type": "code",
   "execution_count": null,
   "metadata": {},
   "outputs": [],
   "source": [
    "# Inicialize o modelo GBM XGBoost\n",
    "model = xgb.XGBClassifier(objective='multi:softmax', num_class=13)\n",
    "\n",
    "# Defina os hiperparâmetros que deseja ajustar\n",
    "param_grid = {\n",
    "    'n_estimators': [100, 200, 300],  \n",
    "    'max_depth': [3, 4, 5],        \n",
    "    'learning_rate': [0.01, 0.1, 0.2]  \n",
    "}\n",
    "\n",
    "# Inicialize o objeto GridSearchCV\n",
    "grid_search = GridSearchCV(estimator=model, param_grid=param_grid, cv=5, scoring='f1_weighted', n_jobs=-1)\n",
    "\n",
    "# Realize o ajuste aos dados de treinamento\n",
    "grid_search.fit(X_train, y_train)\n",
    "\n",
    "# Imprima os melhores parâmetros encontrados\n",
    "print(\"Melhores parâmetros:\", grid_search.best_params_)\n",
    "\n",
    "# Faça previsões com o modelo otimizado usando o conjunto de teste\n",
    "y_pred = grid_search.predict(X_test)\n",
    "\n",
    "# Exiba o relatório de classificação\n",
    "print(classification_report(y_test, y_pred))\n",
    "accuracy_xgb_optimized = accuracy_score(y_test, y_pred)\n",
    "f1_xgb_optimized = f1_score(y_test, y_pred,average='weighted')\n",
    "print(f'Acuracia XGBoost: {accuracy_xgb_optimized}')\n",
    "print(f'F1-score LXGBoost: {f1_xgb_optimized}')"
   ]
  },
  {
   "cell_type": "code",
   "execution_count": null,
   "metadata": {},
   "outputs": [],
   "source": [
    "# Modelo com melhores hiperparametros para o dataset com SMOTE --> ficou pior\n",
    "model = xgb.XGBClassifier(objective='multi:softmax', num_class=13)\n",
    "\n",
    "# Defina os hiperparâmetros que deseja ajustar\n",
    "param_grid = {\n",
    "    'n_estimators': [100, 200, 300],  \n",
    "    'max_depth': [3, 4, 5],        \n",
    "    'learning_rate': [0.01, 0.1, 0.2]  \n",
    "}\n",
    "\n",
    "# Inicialize o objeto GridSearchCV\n",
    "grid_search = GridSearchCV(estimator=model, param_grid=param_grid, cv=5, scoring='f1_weighted', n_jobs=-1)\n",
    "\n",
    "# Realize o ajuste aos dados de treinamento\n",
    "grid_search.fit(X_train_resampled, y_train_resampled)\n",
    "\n",
    "# Imprima os melhores parâmetros encontrados\n",
    "print(\"Melhores parâmetros:\", grid_search.best_params_)\n",
    "\n",
    "# Faça previsões com o modelo otimizado usando o conjunto de teste\n",
    "y_pred = grid_search.predict(X_test)\n",
    "\n",
    "# Exiba o relatório de classificação\n",
    "print(classification_report(y_test, y_pred))\n",
    "accuracy_xgb_optimized_smote = accuracy_score(y_test, y_pred)\n",
    "f1_xgb_optimized_smote = f1_score(y_test, y_pred,average='weighted')\n",
    "print(f'Acuracia XGBoost: {accuracy_xgb_optimized_smote}')\n",
    "print(f'F1-score LXGBoost: {f1_xgb_optimized_smote}')"
   ]
  },
  {
   "cell_type": "markdown",
   "metadata": {},
   "source": [
    "## Redes Neurais Artificiais"
   ]
  },
  {
   "cell_type": "markdown",
   "metadata": {},
   "source": [
    "## Support Vector Machine (SVM)"
   ]
  },
  {
   "cell_type": "code",
   "execution_count": null,
   "metadata": {},
   "outputs": [],
   "source": [
    "# Inicialize o modelo SVM com o esquema OvR\n",
    "svm_model = SVC(kernel='linear', decision_function_shape='ovr')\n",
    "\n",
    "# Treine o modelo SVM\n",
    "svm_model.fit(X_train, y_train)\n",
    "\n",
    "# Faça previsões com o modelo\n",
    "y_pred = svm_model.predict(X_test)\n",
    "\n",
    "# Exiba o relatório de classificação\n",
    "print(classification_report(y_test, y_pred))\n",
    "accuracy_svm = accuracy_score(y_test, y_pred)\n",
    "f1_svm = f1_score(y_test, y_pred,average='weighted')\n",
    "print(f'Acuracia XGBoost: {accuracy_svm}')\n",
    "print(f'F1-score LXGBoost: {f1_svm}')"
   ]
  },
  {
   "cell_type": "code",
   "execution_count": null,
   "metadata": {},
   "outputs": [],
   "source": [
    "# Inicialize o modelo SVM\n",
    "svm_model = SVC()\n",
    "\n",
    "# Defina os hiperparâmetros que deseja ajustar\n",
    "param_grid = {\n",
    "    'C': [0.1, 1, 10],  \n",
    "    'kernel': ['linear', 'rbf', 'poly'],        \n",
    "    'gamma': ['scale', 'auto']\n",
    "}\n",
    "\n",
    "# Inicialize o objeto GridSearchCV\n",
    "grid_search = GridSearchCV(estimator=svm_model, param_grid=param_grid, cv=5, scoring='f1_weighted', n_jobs=-1)\n",
    "\n",
    "# Realize o ajuste aos dados de treinamento\n",
    "grid_search.fit(X_train, y_train)\n",
    "\n",
    "# Imprima os melhores parâmetros encontrados\n",
    "print(\"Melhores parâmetros:\", grid_search.best_params_)\n",
    "\n",
    "# Faça previsões com o modelo otimizado usando o conjunto de teste\n",
    "y_pred = grid_search.predict(X_test)\n",
    "\n",
    "# Exiba o relatório de classificação\n",
    "print(classification_report(y_test, y_pred))\n",
    "accuracy_svm_optimized = accuracy_score(y_test, y_pred)\n",
    "f1_svm_optimized = f1_score(y_test, y_pred,average='weighted')\n",
    "print(f'Acuracia XGBoost: {accuracy_svm_optimized}')\n",
    "print(f'F1-score LXGBoost: {f1_svm_optimized}')\n"
   ]
  },
  {
   "cell_type": "markdown",
   "metadata": {},
   "source": [
    "Acurácia (Accuracy): A acurácia é a proporção de exemplos classificados corretamente pelo modelo em relação ao total de exemplos. É uma métrica simples e fácil de interpretar, mas pode ser enganosa em casos de classes desbalanceadas.\n",
    "\n",
    "AUC-ROC: A área sob a curva ROC (Receiver Operating Characteristic) é uma métrica que avalia a capacidade do modelo de distinguir entre as classes positiva e negativa. Uma pontuação AUC-ROC de 1.0 indica um modelo perfeito, enquanto uma pontuação de 0.5 indica um modelo que não é melhor do que o acaso. A AUC-ROC é útil para avaliar o desempenho geral do modelo, independentemente do ponto de corte utilizado.\n",
    "\n",
    "F1-Score: O F1-Score é a média harmônica da precisão e da revocação. Ele fornece um equilíbrio entre precisão e revocação e é calculado como 2 * (Precisão * Revocação) / (Precisão + Revocação). O F1-Score é uma métrica útil quando há um desequilíbrio entre as classes ou quando ambas as métricas de precisão e revocação são importantes.\n",
    "\n",
    "Precisão e Revocação (Precision and Recall): A precisão mede a proporção de exemplos positivos previstos corretamente em relação a todos os exemplos previstos como positivos, enquanto a revocação mede a proporção de exemplos positivos que foram previstos corretamente em relação a todos os exemplos positivos reais. Estas métricas são úteis quando o custo dos falsos positivos e falsos negativos é diferente.\n",
    "\n",
    "Matriz de Confusão: A matriz de confusão é uma tabela que mostra as contagens de verdadeiros positivos, falsos positivos, verdadeiros negativos e falsos negativos. Ela fornece uma visão mais detalhada do desempenho do modelo em diferentes classes."
   ]
  },
  {
   "cell_type": "code",
   "execution_count": null,
   "metadata": {},
   "outputs": [],
   "source": [
    "print(f'Acuracia Random Forest: {accuracy_rf_smote}')\n",
    "print(f'Acuracia Logistica Multinomial: {accuracy_rlm_optimized}')\n",
    "print(f'F1-score Random Forest: {f1_rf_smote}')\n",
    "print(f'F1-score Logistica Multinomial: {f1_rlm_optimized}')"
   ]
  },
  {
   "cell_type": "code",
   "execution_count": null,
   "metadata": {},
   "outputs": [],
   "source": [
    "from sklearn.ensemble import RandomForestClassifier\n",
    "\n",
    "# Inicializar e ajustar um modelo de Random Forest\n",
    "rf_model = RandomForestClassifier()\n",
    "rf_model.fit(X_train, y_train)\n",
    "\n",
    "# Obter a importância das características\n",
    "feature_importances = rf_model.feature_importances_\n",
    "\n",
    "# Selecionar características com importância acima de um determinado limiar (por exemplo, 0.01)\n",
    "significant_features = X.columns[feature_importances > 0.01]\n",
    "\n",
    "print(\"Características significantes:\", significant_features)\n",
    "print(len(significant_features))"
   ]
  },
  {
   "cell_type": "code",
   "execution_count": null,
   "metadata": {},
   "outputs": [],
   "source": [
    "from sklearn.feature_selection import chi2\n",
    "\n",
    "# Suponha que X seja sua matriz de características e y seja sua variável alvo\n",
    "# Por exemplo, considere X com suas características e y com sua variável alvo\n",
    "\n",
    "# Calcular estatísticas de teste qui-quadrado e p-valores\n",
    "chi2_stats, p_values = chi2(X, y)\n",
    "\n",
    "# Selecionar características com p-valores abaixo de um determinado limiar (por exemplo, 0.05)\n",
    "significant_features = X.columns[p_values < 0.05]\n",
    "\n",
    "print(\"Características significantes:\", significant_features)\n",
    "print(len(significant_features))"
   ]
  },
  {
   "cell_type": "code",
   "execution_count": null,
   "metadata": {},
   "outputs": [],
   "source": []
  },
  {
   "cell_type": "markdown",
   "metadata": {},
   "source": [
    "## Funções"
   ]
  },
  {
   "cell_type": "code",
   "execution_count": null,
   "metadata": {},
   "outputs": [],
   "source": [
    "# Função para rodar modelo de Random Forest tunando os hiper parametros com o GridSearch\n",
    "\n",
    "def ML_RandomForest(X_train, y_train, X_test, y_test, random_state=19, scoring_method='f1_weighted', n_jobs=-1):\n",
    "    \n",
    "    \"\"\"Função para rodar nossos dados de treino e teste em um modelo de Random Forest\"\"\"\n",
    "    \n",
    "    # Buscando os melhores hiperparametros com o GridSearch\n",
    "    param_grid = {\n",
    "        'n_estimators': [100, 200, 300],  # Número de árvores na floresta\n",
    "        'max_depth': [None, 10, 20],        # Profundidade máxima de cada árvore\n",
    "        'min_samples_split': [2, 5, 10],    # O número mínimo de amostras necessárias para dividir um nó interno\n",
    "        'min_samples_leaf': [1, 2, 4]      # O número mínimo de amostras necessárias para estar em um nó folha\n",
    "    }\n",
    "\n",
    "    # Inicialize o modelo Random Forest\n",
    "    random_forest = RandomForestClassifier(random_state=random_state)\n",
    "\n",
    "    # Inicialize o objeto GridSearchCV\n",
    "    grid_search = GridSearchCV(estimator=random_forest, param_grid=param_grid, cv=5, scoring = scoring_method, n_jobs=n_jobs)\n",
    "\n",
    "    # Realize o ajuste aos dados de treinamento\n",
    "    grid_search.fit(X_train, y_train)\n",
    "\n",
    "    # Imprima os melhores parâmetros encontrados\n",
    "    print(\"Melhores parâmetros:\", grid_search.best_params_)\n",
    "\n",
    "    # Faça previsões com o modelo otimizado\n",
    "    y_pred = grid_search.predict(X_test) \n",
    "\n",
    "    # Avalie o desempenho do modelo otimizado\n",
    "    accuracy_rf_optimized = accuracy_score(y_test, y_pred)\n",
    "    f1_rf_optimized = f1_score(y_test, y_pred, average='weighted')\n",
    "    precision_rf_optimized = precision_score(y_test, y_pred, average='weighted')\n",
    "    recall_rf_optimized = recall_score(y_test, y_pred, average='weighted')\n",
    "    conf_matrix_rf_optimized = confusion_matrix(y_test, y_pred)\n",
    "    print(\"Accuracy:\", accuracy_rf_optimized)\n",
    "    print(\"F1-Score:\", f1_rf_optimized)\n",
    "    print(\"Precisão:\", precision_rf_optimized)\n",
    "    print(\"Revocação:\", recall_rf_optimized)\n",
    "    print(\"Matriz de Confusão:\")\n",
    "    print(conf_matrix_rf_optimized)\n",
    "\n",
    "    # Exiba o relatório de classificação\n",
    "    print(classification_report(y_test, y_pred))\n",
    "    return y_pred       "
   ]
  },
  {
   "cell_type": "code",
   "execution_count": null,
   "metadata": {},
   "outputs": [],
   "source": [
    "# Função para rodar modelo Logistico Mltinomial tunando os hiper parametros com o GridSearch\n",
    "\n",
    "def ML_LogMult(X_train, y_train, X_test, y_test, random_state=19, scoring_method='f1_weighted', n_jobs=-1):\n",
    "    param_grid = {\n",
    "        'C': [0.001, 0.01, 0.1, 1, 10],  # Parâmetro de regularização\n",
    "        'solver': ['newton-cg', 'lbfgs', 'sag', 'saga'],  # Algoritmo de otimização\n",
    "        'max_iter': [100, 200, 300]  # Número máximo de iterações\n",
    "    }\n",
    "\n",
    "    # Inicialize o modelo de regressão logística multinomial\n",
    "    logistic_model = LogisticRegression(multi_class='multinomial', random_state=random_state)\n",
    "\n",
    "    # Inicialize o objeto GridSearchCV\n",
    "    grid_search = GridSearchCV(estimator=logistic_model, param_grid=param_grid, cv=5, scoring=scoring_method, n_jobs=n_jobs)\n",
    "\n",
    "    # Realize o ajuste aos dados de treinamento\n",
    "    grid_search.fit(X_train, y_train)\n",
    "\n",
    "    # Imprima os melhores parâmetros encontrados\n",
    "    print(\"Melhores parâmetros:\", grid_search.best_params_)\n",
    "\n",
    "    # Faça previsões com o modelo otimizado usando o conjunto de teste\n",
    "    y_pred = grid_search.predict(X_test)\n",
    "\n",
    "    # Avalie o desempenho do modelo otimizado\n",
    "    accuracy_lm_optimized = accuracy_score(y_test, y_pred)\n",
    "    f1_lm_optimized = f1_score(y_test, y_pred, average='weighted')\n",
    "    precision_lm_optimized = precision_score(y_test, y_pred, average='weighted')\n",
    "    recall_lm_optimized = recall_score(y_test, y_pred, average='weighted')\n",
    "    conf_matrix_lm_optimized = confusion_matrix(y_test, y_pred)\n",
    "    print(\"Accuracy:\", accuracy_lm_optimized)\n",
    "    print(\"F1-Score:\", f1_lm_optimized)\n",
    "    print(\"Precisão:\", precision_lm_optimized)\n",
    "    print(\"Revocação:\", recall_lm_optimized)\n",
    "    print(\"Matriz de Confusão:\")\n",
    "    print(conf_matrix_lm_optimized)\n",
    "\n",
    "    # Exiba o relatório de classificação\n",
    "    print(classification_report(y_test, y_pred))\n",
    "    return y_pred       "
   ]
  },
  {
   "cell_type": "code",
   "execution_count": 127,
   "metadata": {},
   "outputs": [],
   "source": [
    "# Função para rodar modelo Logistico XGBoost tunando os hiper parametros com o GridSearch\n",
    "\n",
    "def ML_Xgboost(X_train, y_train, X_test, y_test, scoring_method='f1_weighted',n_jobs=-1 ):\n",
    "    \n",
    "    \"\"\"return y_pred\"\"\"\n",
    "    num_class = len(y_train.value_counts())\n",
    "    model = xgb.XGBClassifier(objective='multi:softmax', num_class=num_class)\n",
    "\n",
    "    # Defina os hiperparâmetros que deseja ajustar\n",
    "    param_grid = {\n",
    "        'n_estimators': [100, 200, 300],  \n",
    "        'max_depth': [3, 4, 5],        \n",
    "        'learning_rate': [0.01, 0.1, 0.2]  \n",
    "    }\n",
    "\n",
    "    # Inicialize o objeto GridSearchCV\n",
    "    grid_search = GridSearchCV(estimator=model, param_grid=param_grid, cv=5, scoring=scoring_method, n_jobs = n_jobs)\n",
    "\n",
    "    # Realize o ajuste aos dados de treinamento\n",
    "    grid_search.fit(X_train, y_train)\n",
    "\n",
    "    # Imprima os melhores parâmetros encontrados\n",
    "    print(\"Melhores parâmetros:\", grid_search.best_params_)\n",
    "\n",
    "    # Faça previsões com o modelo otimizado usando o conjunto de teste\n",
    "    y_pred = grid_search.predict(X_test)\n",
    "\n",
    "    # Exiba o relatório de classificação\n",
    "    print(classification_report(y_test, y_pred))\n",
    "    accuracy_xgb_optimized = accuracy_score(y_test, y_pred)\n",
    "    f1_xgb_optimized = f1_score(y_test, y_pred,average='weighted')\n",
    "    precision_xgb_optimized = precision_score(y_test, y_pred, average='weighted')\n",
    "    recall_xgb_optimized = recall_score(y_test, y_pred, average='weighted')\n",
    "    conf_matrix_xgb_optimized = confusion_matrix(y_test, y_pred)\n",
    "    print(f'Acuracia XGBoost: {accuracy_xgb_optimized}')\n",
    "    print(f'F1-score LXGBoost: {f1_xgb_optimized}')\n",
    "    print(\"Precisão:\", precision_xgb_optimized)\n",
    "    print(\"Revocação:\", recall_xgb_optimized)\n",
    "    print(\"Matriz de Confusão:\")\n",
    "    print(conf_matrix_xgb_optimized)\n",
    "    \n",
    "    return y_pred"
   ]
  },
  {
   "cell_type": "code",
   "execution_count": 129,
   "metadata": {},
   "outputs": [],
   "source": [
    "# Função para rodar modelo Logistico SVM tunando os hiper parametros com o GridSearch\n",
    "\n",
    "def ML_Svm(X_train, y_train, X_test, y_test, scoring_method='f1_weighted',n_jobs=-1):\n",
    "    svm_model = SVC()\n",
    "\n",
    "    # Defina os hiperparâmetros que deseja ajustar\n",
    "    param_grid = {\n",
    "        'C': [0.1, 1, 10],  \n",
    "        'kernel': ['linear', 'rbf', 'poly'],        \n",
    "        'gamma': ['scale', 'auto']\n",
    "    }\n",
    "\n",
    "    # Inicialize o objeto GridSearchCV\n",
    "    grid_search = GridSearchCV(estimator=svm_model, param_grid=param_grid, cv=5, scoring=scoring_method, n_jobs=n_jobs)\n",
    "\n",
    "    # Realize o ajuste aos dados de treinamento\n",
    "    grid_search.fit(X_train, y_train)\n",
    "\n",
    "    # Imprima os melhores parâmetros encontrados\n",
    "    print(\"Melhores parâmetros:\", grid_search.best_params_)\n",
    "\n",
    "    # Faça previsões com o modelo otimizado usando o conjunto de teste\n",
    "    y_pred = grid_search.predict(X_test)\n",
    "\n",
    "    # Exiba o relatório de classificação\n",
    "    print(classification_report(y_test, y_pred))\n",
    "    accuracy_svm_optimized = accuracy_score(y_test, y_pred)\n",
    "    f1_svm_optimized = f1_score(y_test, y_pred,average='weighted')\n",
    "    precision_svm_optimized = precision_score(y_test, y_pred, average='weighted')\n",
    "    recall_svm_optimized = recall_score(y_test, y_pred, average='weighted')\n",
    "    conf_matrix_svm_optimized = confusion_matrix(y_test, y_pred)\n",
    "    print(f'Acuracia XGBoost: {accuracy_svm_optimized}')\n",
    "    print(f'F1-score LXGBoost: {f1_svm_optimized}')\n",
    "    print(\"Precisão:\", precision_svm_optimized)\n",
    "    print(\"Revocação:\", recall_svm_optimized)\n",
    "    print(\"Matriz de Confusão:\")\n",
    "    print(conf_matrix_svm_optimized)\n",
    "    \n",
    "    return y_pred\n",
    "    "
   ]
  },
  {
   "cell_type": "code",
   "execution_count": null,
   "metadata": {},
   "outputs": [],
   "source": [
    "y_pred = ML_RandomForest(X_train, y_train, X_test, y_test)"
   ]
  },
  {
   "cell_type": "code",
   "execution_count": 126,
   "metadata": {},
   "outputs": [
    {
     "data": {
      "text/plain": [
       "13"
      ]
     },
     "execution_count": 126,
     "metadata": {},
     "output_type": "execute_result"
    }
   ],
   "source": [
    "len(y_train.value_counts())"
   ]
  }
 ],
 "metadata": {
  "kernelspec": {
   "display_name": "base",
   "language": "python",
   "name": "python3"
  },
  "language_info": {
   "codemirror_mode": {
    "name": "ipython",
    "version": 3
   },
   "file_extension": ".py",
   "mimetype": "text/x-python",
   "name": "python",
   "nbconvert_exporter": "python",
   "pygments_lexer": "ipython3",
   "version": "3.9.13"
  },
  "orig_nbformat": 4
 },
 "nbformat": 4,
 "nbformat_minor": 2
}
